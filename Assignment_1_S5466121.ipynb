{
 "cells": [
  {
   "cell_type": "markdown",
   "metadata": {
    "id": "rbgjVp6BXGCT"
   },
   "source": [
    "\n",
    "# **Assignment 1**\n",
    "\n",
    "\n",
    "## Task 1. Correlation\n",
    "We will use the data example from the textbook \"Statistical Analysis with The General Linear Model\" by Miller and Haden (2013), Chapter 11.\n",
    "\n",
    "As in Miller and Haden, we have five columns:\n",
    "\n",
    "-Participant (Participant),\n",
    "\n",
    "-Reading Ability (Abil),\n",
    "\n",
    "-Intelligence (IQ),\n",
    "\n",
    "-Number of minutes spent reading at home per week (Home),\n",
    "\n",
    "-Number of minutes spent watching TV per week (TV).\n",
    "\n",
    "\n",
    "For the task we will focus on the relationship between Reading Ability and IQ, but for further practice you can look at other relationships on your own."
   ]
  },
  {
   "cell_type": "markdown",
   "metadata": {
    "id": "Z4cXzKORYFaD"
   },
   "source": [
    "**Question 1**:\n",
    "\n",
    "a. Check whether the data is interval, ratio, or ordinal.\n",
    "\n",
    "b. Check whether there is a data point for each participant on both variables.\n",
    "\n",
    "c. Check whether the data is normally distributed in both variables.\n",
    "\n",
    "d. Create a scatter plot with Reading Ability being the x-axis and IQ, being the y-axis.\n",
    "\n",
    "e. Draw a correlation line on the scatter plot.\n",
    "\n",
    "\n",
    "**Instructions:**\n",
    "\n",
    "1. Load the necessary libraries and explain why you need them (\"#used for ...\").\n",
    "\n",
    "2. Read the MillerHadenData.csv file into a DataFrame and name it \"df_mh\"."
   ]
  },
  {
   "cell_type": "code",
   "execution_count": 1,
   "metadata": {
    "id": "140M8Z4qYn_G"
   },
   "outputs": [],
   "source": [
    "import pandas as pd # used for data wrangling\n",
    "import seaborn as sns # used for visualization\n",
    "import matplotlib  # used for plotting\n",
    "from matplotlib import pyplot as plt # used for creating plots\n",
    "import pylab # used for supporting matplotlib plots\n",
    "import pingouin as pg # used for statistical analysis\n",
    "\n",
    "df_mh = pd.read_csv('D:\\MillerHadenData.csv')\n",
    "## Because of my computer settings, my path is different from others.\n"
   ]
  },
  {
   "cell_type": "code",
   "execution_count": 2,
   "metadata": {
    "id": "rwqidw5q2D1n"
   },
   "outputs": [
    {
     "name": "stdout",
     "output_type": "stream",
     "text": [
      "   Participant  Abil   IQ  Home   TV\n",
      "0            1    61  107   144  487\n",
      "1            2    56  109   123  608\n",
      "2            3    45   81   108  640\n",
      "3            4    66  100   155  493\n",
      "4            5    49   92   103  636\n",
      "<class 'pandas.core.frame.DataFrame'>\n",
      "RangeIndex: 25 entries, 0 to 24\n",
      "Data columns (total 5 columns):\n",
      " #   Column       Non-Null Count  Dtype\n",
      "---  ------       --------------  -----\n",
      " 0   Participant  25 non-null     int64\n",
      " 1   Abil         25 non-null     int64\n",
      " 2   IQ           25 non-null     int64\n",
      " 3   Home         25 non-null     int64\n",
      " 4   TV           25 non-null     int64\n",
      "dtypes: int64(5)\n",
      "memory usage: 1.1 KB\n"
     ]
    }
   ],
   "source": [
    "# Q1a (code):\n",
    "# Display first few rows of the dataframe\n",
    "df_mh.head()\n",
    "print(df_mh.head())\n",
    "\n",
    "# Check data types and information\n",
    "df_mh.info()\n",
    "\n",
    "#Q1a: The data is of the interval type because it contains consecutive numbers, and the difference between the numbers is meaningful."
   ]
  },
  {
   "cell_type": "code",
   "execution_count": 3,
   "metadata": {
    "id": "Edd9mYgi2Jar"
   },
   "outputs": [
    {
     "name": "stdout",
     "output_type": "stream",
     "text": [
      "    Participant   Abil     IQ   Home     TV\n",
      "0         False  False  False  False  False\n",
      "1         False  False  False  False  False\n",
      "2         False  False  False  False  False\n",
      "3         False  False  False  False  False\n",
      "4         False  False  False  False  False\n",
      "5         False  False  False  False  False\n",
      "6         False  False  False  False  False\n",
      "7         False  False  False  False  False\n",
      "8         False  False  False  False  False\n",
      "9         False  False  False  False  False\n",
      "10        False  False  False  False  False\n",
      "11        False  False  False  False  False\n",
      "12        False  False  False  False  False\n",
      "13        False  False  False  False  False\n",
      "14        False  False  False  False  False\n",
      "15        False  False  False  False  False\n",
      "16        False  False  False  False  False\n",
      "17        False  False  False  False  False\n",
      "18        False  False  False  False  False\n",
      "19        False  False  False  False  False\n",
      "20        False  False  False  False  False\n",
      "21        False  False  False  False  False\n",
      "22        False  False  False  False  False\n",
      "23        False  False  False  False  False\n",
      "24        False  False  False  False  False\n",
      "There is a data point for each participant on both variables\n"
     ]
    }
   ],
   "source": [
    "# Q1b (code):\n",
    "# Check for missing values\n",
    "missing_values = df_mh.isnull()\n",
    "print(missing_values)\n",
    "# Check whether there is a data point for each participant on both variables:\n",
    "if True in df_mh.isnull()['Abil']:\n",
    "    print('Missing data in Ability')\n",
    "elif True in df_mh.isnull()['IQ']:\n",
    "    print('Missing data in IQ')\n",
    "else:\n",
    "    print('There is a data point for each participant on both variables')\n",
    "# Q1b:Judging from the results, there are data points between the two variables Reading Ability and IQ, and there are no null values."
   ]
  },
  {
   "cell_type": "code",
   "execution_count": 4,
   "metadata": {
    "id": "3ALe0fjr2K5h"
   },
   "outputs": [
    {
     "name": "stdout",
     "output_type": "stream",
     "text": [
      "0.9487951397895813 0.2354906052350998\n",
      "0.9636039137840271 0.49081143736839294\n"
     ]
    }
   ],
   "source": [
    "# Q1c (code):\n",
    "# Check data distribution\n",
    "import scipy.stats as stats\n",
    "score_Abli, p_val_Abli = stats.shapiro(df_mh['Abil'])\n",
    "print(score_Abli, p_val_Abli)\n",
    "score_IQ, p_val_IQ = stats.shapiro(df_mh['IQ'])\n",
    "print(score_IQ, p_val_IQ)\n",
    "#Q1c: For the variable \"Abil\", the statistical score is 0.949 and the p-value is 0.235. \n",
    "# The p-value is greater than the significance level of 0.05, \n",
    "# so the null hypothesis cannot be rejected and the data can be considered to be normally distributed.\n",
    "# For the variable \"IQ\", the statistical score is 0.964, the p-value is 0.491, \n",
    "# the p-value is greater than the significance level 0.05, \n",
    "# so the null hypothesis cannot be rejected and the data can be considered to be normally distributed.\n",
    "# In conclusion, both variables can be considered to be normally distributed."
   ]
  },
  {
   "cell_type": "code",
   "execution_count": 5,
   "metadata": {
    "id": "xaQ300fY2MPe"
   },
   "outputs": [
    {
     "data": {
      "image/png": "[encoded data removed]",
      "text/plain": [
       "<Figure size 640x480 with 1 Axes>"
      ]
     },
     "metadata": {},
     "output_type": "display_data"
    }
   ],
   "source": [
    "# Q1d (code):\n",
    "# Scatter plot\n",
    "Reading_Ability = df_mh['Abil']\n",
    "IQ = df_mh['IQ']\n",
    "\n",
    "plt.scatter(Reading_Ability, IQ, c=\"r\")\n",
    "plt.xlabel(\"Reading_Ability\") \n",
    "plt.ylabel(\"IQ\") \n",
    "plt.show()\n",
    "\n"
   ]
  },
  {
   "cell_type": "code",
   "execution_count": 6,
   "metadata": {
    "id": "Zpkwqc382N06"
   },
   "outputs": [
    {
     "data": {
      "image/png": "[encoded data removed]",
      "text/plain": [
       "<Figure size 640x480 with 1 Axes>"
      ]
     },
     "metadata": {},
     "output_type": "display_data"
    }
   ],
   "source": [
    "# Q1e (code):\n",
    "# Correlation line\n",
    "plot_corr_sns = sns.regplot(x=\"Abil\", y=\"IQ\", color=\"r\", data=df_mh)"
   ]
  },
  {
   "cell_type": "markdown",
   "metadata": {
    "id": "tKtW2diqZq1S"
   },
   "source": [
    "**Question 2**:\n",
    "\n",
    "a. Which correlation coefficient test can we use, Pearson or Spearman? Briefly explian why based on the results of Question 1.\n",
    "\n",
    "b. Conduct a correlation coefficient test.\n",
    "\n",
    "c. Interpret the result (direction and strength of the association between the two varibles)"
   ]
  },
  {
   "cell_type": "code",
   "execution_count": 7,
   "metadata": {
    "id": "t5GRVxHwaKIS"
   },
   "outputs": [],
   "source": [
    "# Q2a (answer with words):\n",
    "# According to the correlation line in question 1, we can see that it is monotonic and linear.\n",
    "# So, Parametric (Pearson) and non-parametric(Spearman) correlation methods can be used."
   ]
  },
  {
   "cell_type": "code",
   "execution_count": 8,
   "metadata": {
    "id": "LTSp6xMFaKgf"
   },
   "outputs": [
    {
     "name": "stdout",
     "output_type": "stream",
     "text": [
      "          n        r         CI95%     p-val   BF10     power\n",
      "pearson  25  0.45117  [0.07, 0.72]  0.023593  2.804  0.640299\n"
     ]
    }
   ],
   "source": [
    "# Q2b (code):\n",
    "corr_abil_IQ = pg.corr(Reading_Ability, IQ)\n",
    "print(corr_abil_IQ)"
   ]
  },
  {
   "cell_type": "code",
   "execution_count": 9,
   "metadata": {
    "id": "m_3aCSG7ylFJ"
   },
   "outputs": [],
   "source": [
    "# Q2c (answer with words):\n",
    "# According to the results provided, the correlation coefficient between the two variables is 0.45117, \n",
    "# which indicates that there is a moderate positive relationship between them. \n",
    "# In other words, as one variable increases, the other variable also tends to increase, and vice versa."
   ]
  },
  {
   "cell_type": "markdown",
   "metadata": {
    "id": "mogdaz8P27oU"
   },
   "source": [
    "## Task 2. Chi-square Test\n",
    "We will continue to use the data example from Task 1.\n",
    "\n",
    "We want to explore whether there are significant differences in the amount of time spent reading at home per week (Home) among people with different reading abilities (Reading Ability). Therefore, we will divide the reading ability of all participants into two groups. The first group is those with low reading ability (Reading Ability at or below the rounded average), and the second group is those with high reading ability (Reading Ability above the rounded average). We will store this grouping in a new column named \"Rank_Abil\".\n",
    "\n",
    "\n",
    "Similarly, the reading time is divided into two different scenarios: the first scenario is infrequent reading (Home at or below the rounded average), and the other is frequent reading (Reading Ability above the rounded average). We will store this grouping in a new column named \"Rank_Home\".\n",
    "\n",
    "\n",
    "Then, construct a Contingency Matrix and perform a Chi-square test.\n",
    "\n",
    "**Question 3**:\n",
    "\n",
    "a. Please state the null hypothesis (H0) and alternative hypothesis (H1) for this Chi-square test.\n",
    "\n",
    "b. Based on the task description, add new columns “Rank_Abil” and \"Rank_Home\" to the dataframe df_mh.\n",
    "\n",
    "c. Construct a Contingency Matrix.\n",
    "\n",
    "d. Perform a Chi-square test.\n",
    "\n",
    "e. Interpret the results of the Chi-square test (answer in text)."
   ]
  },
  {
   "cell_type": "code",
   "execution_count": 10,
   "metadata": {
    "id": "tIKHfEwG-Pte"
   },
   "outputs": [],
   "source": [
    "# Q3a (answer in words):\n",
    "# H0: There is no relationship between reading ability and the amount of time spent reading at home per week.\n",
    "# H1：There is an relationship between reading ability and the amount of time spent reading at home per week."
   ]
  },
  {
   "cell_type": "code",
   "execution_count": 11,
   "metadata": {
    "id": "nlO-hmq2-V2Z"
   },
   "outputs": [
    {
     "data": {
      "text/html": [
       "<div>\n",
       "<style scoped>\n",
       "    .dataframe tbody tr th:only-of-type {\n",
       "        vertical-align: middle;\n",
       "    }\n",
       "\n",
       "    .dataframe tbody tr th {\n",
       "        vertical-align: top;\n",
       "    }\n",
       "\n",
       "    .dataframe thead th {\n",
       "        text-align: right;\n",
       "    }\n",
       "</style>\n",
       "<table border=\"1\" class=\"dataframe\">\n",
       "  <thead>\n",
       "    <tr style=\"text-align: right;\">\n",
       "      <th></th>\n",
       "      <th>Participant</th>\n",
       "      <th>Abil</th>\n",
       "      <th>IQ</th>\n",
       "      <th>Home</th>\n",
       "      <th>TV</th>\n",
       "      <th>Rank_Abil</th>\n",
       "      <th>Rank_Home</th>\n",
       "    </tr>\n",
       "  </thead>\n",
       "  <tbody>\n",
       "    <tr>\n",
       "      <th>0</th>\n",
       "      <td>1</td>\n",
       "      <td>61</td>\n",
       "      <td>107</td>\n",
       "      <td>144</td>\n",
       "      <td>487</td>\n",
       "      <td>High</td>\n",
       "      <td>Frequent</td>\n",
       "    </tr>\n",
       "    <tr>\n",
       "      <th>1</th>\n",
       "      <td>2</td>\n",
       "      <td>56</td>\n",
       "      <td>109</td>\n",
       "      <td>123</td>\n",
       "      <td>608</td>\n",
       "      <td>High</td>\n",
       "      <td>Infrequent</td>\n",
       "    </tr>\n",
       "    <tr>\n",
       "      <th>2</th>\n",
       "      <td>3</td>\n",
       "      <td>45</td>\n",
       "      <td>81</td>\n",
       "      <td>108</td>\n",
       "      <td>640</td>\n",
       "      <td>Low</td>\n",
       "      <td>Infrequent</td>\n",
       "    </tr>\n",
       "    <tr>\n",
       "      <th>3</th>\n",
       "      <td>4</td>\n",
       "      <td>66</td>\n",
       "      <td>100</td>\n",
       "      <td>155</td>\n",
       "      <td>493</td>\n",
       "      <td>High</td>\n",
       "      <td>Frequent</td>\n",
       "    </tr>\n",
       "    <tr>\n",
       "      <th>4</th>\n",
       "      <td>5</td>\n",
       "      <td>49</td>\n",
       "      <td>92</td>\n",
       "      <td>103</td>\n",
       "      <td>636</td>\n",
       "      <td>Low</td>\n",
       "      <td>Infrequent</td>\n",
       "    </tr>\n",
       "  </tbody>\n",
       "</table>\n",
       "</div>"
      ],
      "text/plain": [
       "   Participant  Abil   IQ  Home   TV Rank_Abil   Rank_Home\n",
       "0            1    61  107   144  487      High    Frequent\n",
       "1            2    56  109   123  608      High  Infrequent\n",
       "2            3    45   81   108  640       Low  Infrequent\n",
       "3            4    66  100   155  493      High    Frequent\n",
       "4            5    49   92   103  636       Low  Infrequent"
      ]
     },
     "execution_count": 11,
     "metadata": {},
     "output_type": "execute_result"
    }
   ],
   "source": [
    "# Q3b (code):\n",
    "# Import necessary libraries\n",
    "import pandas as pd  ##used for data manipulation and analysis\n",
    "from scipy.stats import chi2_contingency ##used for conducting chi-square tests\n",
    "\n",
    "# Define the rounded average for Reading Ability and Home\n",
    "avg_reading_ability = round(df_mh['Abil'].mean())\n",
    "avg_home = round(df_mh['Home'].mean())\n",
    "# Create the Rank_Abil column\n",
    "df_mh['Rank_Abil'] = 'Low'\n",
    "df_mh.loc[df_mh['Abil'] > avg_reading_ability, 'Rank_Abil'] = 'High'\n",
    "\n",
    "# Create the Rank_Home column\n",
    "df_mh['Rank_Home'] = 'Infrequent'\n",
    "df_mh.loc[df_mh['Home'] > avg_home, 'Rank_Home'] = 'Frequent'\n",
    "df_mh.head()"
   ]
  },
  {
   "cell_type": "code",
   "execution_count": 12,
   "metadata": {
    "id": "jjtp4cm4-Y36"
   },
   "outputs": [
    {
     "name": "stdout",
     "output_type": "stream",
     "text": [
      "The values:\n",
      "[8, 3, 2, 12]\n",
      "The contingency matrix\n",
      "[[ 8  3]\n",
      " [ 2 12]]\n"
     ]
    }
   ],
   "source": [
    "# Q3c (code):\n",
    "# Construct Contingency Matrix\n",
    "import numpy as np\n",
    "datacontingency = []\n",
    "high = df_mh[df_mh['Rank_Abil'] == 'High']\n",
    "high_frequent = high[high['Rank_Home'] == 'Frequent']\n",
    "high_infrequent = high[high['Rank_Home'] == 'Infrequent']\n",
    "\n",
    "low = df_mh[df_mh['Rank_Abil'] == 'Low']\n",
    "low_frequent = low[low['Rank_Home'] == 'Frequent']\n",
    "low_infrequent = low[low['Rank_Home'] == 'Infrequent']\n",
    "\n",
    "datacontingency.append(len(high_frequent))\n",
    "datacontingency.append(len(low_frequent))\n",
    "datacontingency.append(len(high_infrequent))\n",
    "datacontingency.append(len(low_infrequent))\n",
    "\n",
    "print('The values:')\n",
    "print(datacontingency)\n",
    "\n",
    "data_cm = np.array(datacontingency).reshape(2, -1)\n",
    "\n",
    "print('The contingency matrix')\n",
    "print(data_cm)"
   ]
  },
  {
   "cell_type": "code",
   "execution_count": 13,
   "metadata": {
    "id": "gyDS8hq2-bmx"
   },
   "outputs": [
    {
     "name": "stdout",
     "output_type": "stream",
     "text": [
      "6.500270562770561 0.010785807794066234\n",
      "These are the expected frequencies\n",
      "[[4.4 6.6]\n",
      " [5.6 8.4]]\n",
      "The observed differences are statiscally significant - H0 is rejected\n"
     ]
    }
   ],
   "source": [
    "# Q3d (code):\n",
    "# Perform the Chi-square test\n",
    "chi2, p_value, degree_of_freedom, expected_frequencies = chi2_contingency(data_cm)\n",
    "print(chi2, p_value)\n",
    "print('These are the expected frequencies')\n",
    "print(expected_frequencies)\n",
    "\n",
    "if p_value < 0.05:\n",
    "    print(\"The observed differences are statiscally significant - H0 is rejected\")\n",
    "else:\n",
    "    print(\"The observed differences are not statiscally significant - H1 is rejected\")"
   ]
  },
  {
   "cell_type": "code",
   "execution_count": 14,
   "metadata": {
    "id": "fj0gW0pS-dN5"
   },
   "outputs": [],
   "source": [
    "# Q3e (answer in words):\n",
    "# Based on the results of the Chi-square test:The Chi-square statistic is 6.50, and the associated p-value is approximately 0.01.\n",
    "# For the group of low reading ability and infrequent reading, the expected frequency is 4.4.\n",
    "# For the group of low reading ability and frequent reading, the expected frequency is 5.6.\n",
    "# For the group of high reading ability and infrequent reading, the expected frequency is 6.6.\n",
    "# For the group of high reading ability and frequent reading, the expected frequency is 8.4.\n",
    "# Since the p-value (0.01) is less than the significance level 0.05, we reject H0. \n",
    "# This shows that there is a significant association between reading ability and weekly reading time at home. \n",
    "# In other words, individuals with different reading abilities tend to spend different amounts of time reading at home."
   ]
  },
  {
   "cell_type": "markdown",
   "metadata": {
    "id": "FgYRxqqpaUIk"
   },
   "source": [
    "## Task 3. Two-sample t-test\n",
    "As we discussed on Week 3, Two-sample designs are very useful when we want to know whether there is a difference between groups on a particular variable.\n",
    "\n",
    "In this assignment, you will be guided to replicate the Experiment 4 (p. 887-888) from the paper below, focusing on understanding the data through descriptive statistics, visualizing distributions, testing assumptions (normality and variance homogeneity), and finally performing the independent t-test.\n",
    "\n",
    "Schroeder, J. and Epley, N. (2015). The sound of intellect: Speech reveals a thoughtful mind, increasing a job candidate's appeal. Psychological Science, 26, 277--891.\n",
    "\n",
    "\n",
    "As we explained during Week 3 lecture, there are different types of two-sample designs depending on whether or not the two groups are independent (e.g., different participants in different conditions) or not (e.g., same participants in different conditions). In this course we focus on independent samples, which typically means that the observations in the two groups are unrelated - usually meaning different people. But in real practice you will need to go through similar procedures to determine which is the proper statistical test to use.\n",
    "\n",
    "\n",
    "\n",
    "\n",
    "### Background of data: Speech as indicator of intellect\n",
    "To recap on Experiment 4, 39 professional recruiters from Fortune 500 companies evaluated job pitches of M.B.A. candidates (Masters in Business Administration) from the University of Chicago Booth School of Business. The methods and results appear on pages 887--889 of the article if you want to look at them specifically for more details."
   ]
  },
  {
   "cell_type": "markdown",
   "metadata": {
    "id": "vIc57Glgn5Bb"
   },
   "source": [
    "###Step 1: Analyze the demographics of evaluators from the provided dataset\n",
    "\n",
    "**Instructions:**\n",
    "\n",
    "1. Load the necessary libraries (pandas, scipy, numpy, matplotlib.pyplot, seaborn) and explain why you need them (\"#used for ...\").\n",
    "\n",
    "2. Read the evaluators.csv file into a DataFrame.\n",
    "\n",
    "3. Calculate the mean and standard deviation of the age of the evaluators, handling missing values appropriately.\n",
    "\n",
    "4. Count how many male and female evaluators were in the study.\n",
    "\n",
    "**Question 4:**\n",
    "\n",
    "a. What was the mean age of the evaluators?\n",
    "What was the standard deviation of the age of the evaluators?\n",
    "\n",
    "b. How many participants were female and how many participants were male?\n"
   ]
  },
  {
   "cell_type": "code",
   "execution_count": 15,
   "metadata": {
    "id": "RgnTye-yojyH"
   },
   "outputs": [
    {
     "data": {
      "text/html": [
       "<div>\n",
       "<style scoped>\n",
       "    .dataframe tbody tr th:only-of-type {\n",
       "        vertical-align: middle;\n",
       "    }\n",
       "\n",
       "    .dataframe tbody tr th {\n",
       "        vertical-align: top;\n",
       "    }\n",
       "\n",
       "    .dataframe thead th {\n",
       "        text-align: right;\n",
       "    }\n",
       "</style>\n",
       "<table border=\"1\" class=\"dataframe\">\n",
       "  <thead>\n",
       "    <tr style=\"text-align: right;\">\n",
       "      <th></th>\n",
       "      <th>eval_id</th>\n",
       "      <th>condition</th>\n",
       "      <th>age</th>\n",
       "      <th>sex</th>\n",
       "    </tr>\n",
       "  </thead>\n",
       "  <tbody>\n",
       "    <tr>\n",
       "      <th>0</th>\n",
       "      <td>1</td>\n",
       "      <td>listened</td>\n",
       "      <td>29.0</td>\n",
       "      <td>2.0</td>\n",
       "    </tr>\n",
       "    <tr>\n",
       "      <th>1</th>\n",
       "      <td>2</td>\n",
       "      <td>listened</td>\n",
       "      <td>27.0</td>\n",
       "      <td>2.0</td>\n",
       "    </tr>\n",
       "    <tr>\n",
       "      <th>2</th>\n",
       "      <td>3</td>\n",
       "      <td>listened</td>\n",
       "      <td>27.0</td>\n",
       "      <td>2.0</td>\n",
       "    </tr>\n",
       "    <tr>\n",
       "      <th>3</th>\n",
       "      <td>4</td>\n",
       "      <td>read</td>\n",
       "      <td>40.0</td>\n",
       "      <td>2.0</td>\n",
       "    </tr>\n",
       "    <tr>\n",
       "      <th>4</th>\n",
       "      <td>5</td>\n",
       "      <td>read</td>\n",
       "      <td>32.0</td>\n",
       "      <td>2.0</td>\n",
       "    </tr>\n",
       "  </tbody>\n",
       "</table>\n",
       "</div>"
      ],
      "text/plain": [
       "   eval_id condition   age  sex\n",
       "0        1  listened  29.0  2.0\n",
       "1        2  listened  27.0  2.0\n",
       "2        3  listened  27.0  2.0\n",
       "3        4      read  40.0  2.0\n",
       "4        5      read  32.0  2.0"
      ]
     },
     "execution_count": 15,
     "metadata": {},
     "output_type": "execute_result"
    }
   ],
   "source": [
    "\n",
    "import pandas as pd # used for data analysis\n",
    "from scipy import stats # used for statistical analysis and mathematical computations\n",
    "import numpy as np # used for numerical computations\n",
    "import matplotlib.pyplot as plt ## used for plotting\n",
    "import seaborn as sns # used for data visualization\n",
    "\n",
    "# Load the data\n",
    "df_evaluators = pd.read_csv('D:\\evaluators.csv')\n",
    "df_evaluators.head()\n",
    "## Because of my computer settings, my path is different from others."
   ]
  },
  {
   "cell_type": "code",
   "execution_count": 16,
   "metadata": {
    "id": "eDw0XnX3BRhe"
   },
   "outputs": [
    {
     "name": "stdout",
     "output_type": "stream",
     "text": [
      "mean    30.852941\n",
      "std      6.238358\n",
      "Name: age, dtype: float64\n"
     ]
    }
   ],
   "source": [
    "# Q4a (code):\n",
    "# Calculate mean and standard deviation for age\n",
    "result = df_evaluators['age'].agg(['mean', 'std'])\n",
    "print(result)\n",
    "# So the mean and standard deviation for age is 30.852941 and 6.238358"
   ]
  },
  {
   "cell_type": "code",
   "execution_count": 17,
   "metadata": {
    "id": "I0tU57R5ufRI"
   },
   "outputs": [
    {
     "name": "stdout",
     "output_type": "stream",
     "text": [
      "Male evaluators: 4\n",
      "Female evaluators: 30\n"
     ]
    }
   ],
   "source": [
    "# Q4b (code)\n",
    "# Count male and female evaluators\n",
    "# In the 'sex' column: 1 represents males and 2 represents females\n",
    "male = df_evaluators.loc[df_evaluators['sex'] == 1, 'sex'].count()\n",
    "female = df_evaluators.loc[df_evaluators['sex'] == 2, 'sex'].count()\n",
    "print(\"Male evaluators:\", male)\n",
    "print(\"Female evaluators:\", female)\n",
    "# So the male evaluators are 4, female evaluators are 30."
   ]
  },
  {
   "cell_type": "markdown",
   "metadata": {
    "id": "KK-MdZfdpDI3"
   },
   "source": [
    "###Step 2: Calculate overall intellect ratings from evaluators and prepare a combined dataset for analysis\n",
    "\n",
    "We are now going to calculate an overall intellect rating given by each evaluator. To break that down a bit, we are going to calculate how intellectual the evaluators (the raters) thought candidates were overall, depending on whether the evaluators read or listened to the candidates' resume pitches. This is calculated by averaging the ratings of competent, thoughtful and intelligent for each evaluator held within ratings.csv.\n",
    "\n",
    "Note: We are not looking at ratings to individual candidates; we are looking at overall ratings for each evaluator. This is a bit confusing but makes sense if you stop to think about it a little. You can think about it in terms of \"do raters rate differently depending on whether they read or listen to a resume pitch\".\n",
    "We will then combine the overall intellect rating with the overall impression ratings and overall hire ratings for each evaluator, all ready found in ratings.csv. In the end we will have a new new dataframe named \"ratings2\" - which has the below structure:\n",
    "\n",
    "**eval_id** shows the evaluator ID. Each evaluator has a different ID. So all the 1's are the same evaluator.\n",
    "\n",
    "**Category** shows the scale that they were rating on - intellect, hire, impression\n",
    "\n",
    "**Rating** shows the overall rating given by that evaluator on a given scale.\n",
    "\n",
    "**condition** shows whether that evaluator listened to (e.g., evaluators 1, 2 and 3), or read (e.g., evaluator 4) the resume.\n",
    "\n",
    "\n",
    "**Instructions:**\n",
    "\n",
    "1. Load the ratings.csv file.\n",
    "\n",
    "2. Filter and calculate the mean intellect rating for each evaluator.\n",
    "\n",
    "3. Combine this with overall impression and hire ratings to create a new DataFrame named \"rating2\".\n",
    "\n",
    "4. Merge this DataFrame with the evaluator demographics.\n",
    "\n",
    "**Question 5**:\n",
    "\n",
    "Print the head of \"rating2\".\n"
   ]
  },
  {
   "cell_type": "code",
   "execution_count": 18,
   "metadata": {
    "id": "l85NzSC-pj57"
   },
   "outputs": [
    {
     "data": {
      "text/html": [
       "<div>\n",
       "<style scoped>\n",
       "    .dataframe tbody tr th:only-of-type {\n",
       "        vertical-align: middle;\n",
       "    }\n",
       "\n",
       "    .dataframe tbody tr th {\n",
       "        vertical-align: top;\n",
       "    }\n",
       "\n",
       "    .dataframe thead th {\n",
       "        text-align: right;\n",
       "    }\n",
       "</style>\n",
       "<table border=\"1\" class=\"dataframe\">\n",
       "  <thead>\n",
       "    <tr style=\"text-align: right;\">\n",
       "      <th></th>\n",
       "      <th>eval_id</th>\n",
       "      <th>Category</th>\n",
       "      <th>Rating</th>\n",
       "    </tr>\n",
       "  </thead>\n",
       "  <tbody>\n",
       "    <tr>\n",
       "      <th>0</th>\n",
       "      <td>1</td>\n",
       "      <td>competent</td>\n",
       "      <td>6.0</td>\n",
       "    </tr>\n",
       "    <tr>\n",
       "      <th>1</th>\n",
       "      <td>1</td>\n",
       "      <td>thoughtful</td>\n",
       "      <td>6.0</td>\n",
       "    </tr>\n",
       "    <tr>\n",
       "      <th>2</th>\n",
       "      <td>1</td>\n",
       "      <td>intelligent</td>\n",
       "      <td>6.0</td>\n",
       "    </tr>\n",
       "    <tr>\n",
       "      <th>3</th>\n",
       "      <td>1</td>\n",
       "      <td>impression</td>\n",
       "      <td>7.0</td>\n",
       "    </tr>\n",
       "    <tr>\n",
       "      <th>4</th>\n",
       "      <td>1</td>\n",
       "      <td>hire</td>\n",
       "      <td>6.0</td>\n",
       "    </tr>\n",
       "  </tbody>\n",
       "</table>\n",
       "</div>"
      ],
      "text/plain": [
       "   eval_id     Category  Rating\n",
       "0        1    competent     6.0\n",
       "1        1   thoughtful     6.0\n",
       "2        1  intelligent     6.0\n",
       "3        1   impression     7.0\n",
       "4        1         hire     6.0"
      ]
     },
     "execution_count": 18,
     "metadata": {},
     "output_type": "execute_result"
    }
   ],
   "source": [
    "# Load ratings data\n",
    "df_ratings = pd.read_csv('D:\\\\ratings.csv')\n",
    "df_ratings.head()\n",
    "## Because of my computer settings, my path is different from others."
   ]
  },
  {
   "cell_type": "code",
   "execution_count": 19,
   "metadata": {
    "id": "5dxtVUSMBZwf"
   },
   "outputs": [
    {
     "data": {
      "text/html": [
       "<div>\n",
       "<style scoped>\n",
       "    .dataframe tbody tr th:only-of-type {\n",
       "        vertical-align: middle;\n",
       "    }\n",
       "\n",
       "    .dataframe tbody tr th {\n",
       "        vertical-align: top;\n",
       "    }\n",
       "\n",
       "    .dataframe thead th {\n",
       "        text-align: right;\n",
       "    }\n",
       "</style>\n",
       "<table border=\"1\" class=\"dataframe\">\n",
       "  <thead>\n",
       "    <tr style=\"text-align: right;\">\n",
       "      <th></th>\n",
       "      <th>eval_id</th>\n",
       "      <th>Category</th>\n",
       "      <th>Rating</th>\n",
       "      <th>condition</th>\n",
       "    </tr>\n",
       "  </thead>\n",
       "  <tbody>\n",
       "    <tr>\n",
       "      <th>0</th>\n",
       "      <td>1</td>\n",
       "      <td>hire</td>\n",
       "      <td>6.000000</td>\n",
       "      <td>listened</td>\n",
       "    </tr>\n",
       "    <tr>\n",
       "      <th>1</th>\n",
       "      <td>1</td>\n",
       "      <td>impression</td>\n",
       "      <td>7.000000</td>\n",
       "      <td>listened</td>\n",
       "    </tr>\n",
       "    <tr>\n",
       "      <th>2</th>\n",
       "      <td>1</td>\n",
       "      <td>intellect</td>\n",
       "      <td>6.000000</td>\n",
       "      <td>listened</td>\n",
       "    </tr>\n",
       "    <tr>\n",
       "      <th>3</th>\n",
       "      <td>2</td>\n",
       "      <td>hire</td>\n",
       "      <td>4.000000</td>\n",
       "      <td>listened</td>\n",
       "    </tr>\n",
       "    <tr>\n",
       "      <th>4</th>\n",
       "      <td>2</td>\n",
       "      <td>impression</td>\n",
       "      <td>4.666667</td>\n",
       "      <td>listened</td>\n",
       "    </tr>\n",
       "  </tbody>\n",
       "</table>\n",
       "</div>"
      ],
      "text/plain": [
       "   eval_id    Category    Rating condition\n",
       "0        1        hire  6.000000  listened\n",
       "1        1  impression  7.000000  listened\n",
       "2        1   intellect  6.000000  listened\n",
       "3        2        hire  4.000000  listened\n",
       "4        2  impression  4.666667  listened"
      ]
     },
     "execution_count": 19,
     "metadata": {},
     "output_type": "execute_result"
    }
   ],
   "source": [
    "# Q5 (code):\n",
    "# Filter the ratings DataFrame to include only 'thoughtful', 'competent', and 'intelligent' categories\n",
    "categories = ['thoughtful', 'competent', 'intelligent']\n",
    "new_df = df_ratings[df_ratings['Category'].isin(categories)]\n",
    "## Source from:https://pandas.pydata.org/pandas-docs/stable/reference/api/pandas.DataFrame.isin.html\n",
    "\n",
    "# Calculate the mean intellect rating for each evaluator\n",
    "# Group by 'eval_id' and calculate mean, then reset the index to convert groupby object back to DataFrame\n",
    "intellect_mean = new_df.groupby('eval_id')['Rating'].mean().reset_index()\n",
    "\n",
    "# Add a 'Category' column with the value 'intellect' for these rows\n",
    "intellect_mean['Category'] = 'intellect'\n",
    "\n",
    "# Create a DataFrame for 'impression' and 'hire' ratings\n",
    "other_ratings = df_ratings[df_ratings['Category'].isin(['impression', 'hire'])]\n",
    "\n",
    "# Combine the DataFrames to create 'ratings2'\n",
    "# Concatenate the 'intellect_mean' DataFrame with the 'other_ratings' DataFrame\n",
    "ratings2 = pd.concat([intellect_mean, other_ratings])\n",
    "\n",
    "# Join 'ratings2' with the 'df_evaluators' DataFrame to add the 'condition' column\n",
    "ratings2 = pd.merge(ratings2, df_evaluators[['eval_id', 'condition']], on='eval_id', how='left')\n",
    "\n",
    "# Select only the necessary columns as per the structure required\n",
    "ratings2 = ratings2[['eval_id', 'Category', 'Rating', 'condition']]\n",
    "\n",
    "# Arrange by 'eval_id' and 'Category'\n",
    "ratings2 = ratings2.sort_values(by=['eval_id', 'Category'])\n",
    "ratings2.reset_index(drop=True, inplace=True) # Reset the index to remove the old index\n",
    "\n",
    "# Display the first few rows of the final 'ratings2' DataFrame to verify\n",
    "ratings2.head()"
   ]
  },
  {
   "cell_type": "markdown",
   "metadata": {
    "id": "fOmtKCzEpoOa"
   },
   "source": [
    "###Step 3: Perform descriptive and inferential statistical analyses, including testing assumptions and conducting independent t-tests.\n",
    "\n",
    "We are going to run the t-tests for Intellect, Hire and Impression; each time comparing evaluators overall ratings for the listened group versus overall ratings for the read group to see if there was a significant difference between the two conditions: i.e., did the evaluators who listened to pitches give a significant higher or lower rating than evaluators that read pitches?\n",
    "\n",
    "**Question 6**:\n",
    "\n",
    "a. In terms of hypotheses, how can we phrase the hypothesis?\n",
    "\n",
    "b. Which t-test should we choose, one-tail or two-tail? And explian why.\n",
    "\n",
    "c. What are the independent variable and the dependent variable here?\n",
    "\n"
   ]
  },
  {
   "cell_type": "code",
   "execution_count": 20,
   "metadata": {
    "id": "duti45rG22eS"
   },
   "outputs": [],
   "source": [
    "# Q6a (answer in words):\n",
    "# Null hypothesis: There is no significant difference between overall ratings on the {impression} scale between evaluators who listened to resume pitches and evaluators who read the resume pitches (H0:μ1=μ2).\n",
    "\n",
    "# Alternative hypothesis: There is a significant difference between overall ratings on the {impression} scale between evaluators who listened to resume pitches and evaluators who read the resume pitches (H1:μ1≠μ2).\n",
    "\n",
    "# we could phrase the null hypothesis for these tests as there is no significant difference between overall ratings on the {impression} scale between evaluators who listened to resume pitches and evaluators who read the resume pitches (H0:μ1=μ2). Alternatively, we could state it as there will be a significant difference between overall ratings on the {impression} scale between evaluators who listened to resume pitches and evaluators who read the resume pitches (H1:μ1≠μ2)."
   ]
  },
  {
   "cell_type": "code",
   "execution_count": 21,
   "metadata": {
    "id": "EkoM_0js3fyS"
   },
   "outputs": [],
   "source": [
    "# Q6b (answer in words):\n",
    "# Which t-test should we choose, one-tail or two-tail? Explian why.\n",
    "# Answer: We should choose two-tail, because the alternative hypothesis is non-directional."
   ]
  },
  {
   "cell_type": "code",
   "execution_count": 22,
   "metadata": {
    "id": "073zOlIsI5ws"
   },
   "outputs": [],
   "source": [
    "# Q6c (answer in words):\n",
    "# What are the independent variable and the dependent variable here?\n",
    "# Answer: the independent variable is the resume pitches adopted by the evaluators (conditions), either listening or reading.\n",
    "# And the dependent variable is the overall ratings on the {intellect/hire/impression} scale given by the evaluators for the candidates."
   ]
  },
  {
   "cell_type": "markdown",
   "metadata": {
    "id": "4g-SpuDX23iL"
   },
   "source": [
    "\n",
    "To clarify, we are going to run three between-subjects t-tests in total; one for intellect ratings; one for hire ratings; one for impression ratings.\n",
    "\n",
    "**Instructions:**\n",
    "\n",
    "1. Descriptive analysis of the ratings.\n",
    "\n",
    "2. Test for normal distribution (Shapiro-Wilk test) and homogeneity of variances (Levene's test) for the intellect, impression, and hire ratings.\n",
    "\n",
    "3. Conduct independent t-tests comparing intellect, impression, and hire ratings between conditions (listened vs. read).\n",
    "\n",
    "Hints: three T-tests need to be performed.\n",
    "\n",
    "**Question 7**:\n",
    "\n",
    "a: Print the test results.\n",
    "\n",
    "b: Interpret the results of the above descriptive statistics, Shapiro-Wilk test, Levene's test, and independent t-tests. Explian why we use these tests and how we made our decisions based on the test result."
   ]
  },
  {
   "cell_type": "code",
   "execution_count": 23,
   "metadata": {},
   "outputs": [
    {
     "name": "stdout",
     "output_type": "stream",
     "text": [
      "The data follows a normal distribution.\n",
      "The data follows a normal distribution.\n",
      "Levene's test is not significant - proceed\n",
      "Difference is statistically significant - reject H0, confirm H1\n"
     ]
    },
    {
     "data": {
      "text/plain": [
       "(count    39.000000\n",
       " mean      4.717949\n",
       " std       2.000787\n",
       " min       0.666667\n",
       " 25%       3.500000\n",
       " 50%       5.000000\n",
       " 75%       6.000000\n",
       " max       9.000000\n",
       " Name: Rating, dtype: float64,\n",
       " {'listen': ShapiroResult(statistic=0.9350408315658569, pvalue=0.17365092039108276),\n",
       "  'read': ShapiroResult(statistic=0.9512398838996887, pvalue=0.4447984993457794)},\n",
       " {'score': 0.8980185752566812, 'p_val': 0.34946205893248505},\n",
       " {'ttest_score': -3.5259329220482414, 'p_val': 0.0011444414996286821})"
      ]
     },
     "execution_count": 23,
     "metadata": {},
     "output_type": "execute_result"
    }
   ],
   "source": [
    "##Q7a (code): This one is for intellect ratings.\n",
    "from scipy.stats import shapiro, levene, ttest_ind # used for statistical analysis\n",
    "\n",
    "# Descriptive analysis of the ratings\n",
    "intellect_ratings = ratings2[ratings2['Category'] == 'intellect']['Rating']\n",
    "ratings_desc = intellect_ratings.describe()\n",
    "\n",
    "# Test for normal distribution (Shapiro-Wilk test)\n",
    "listen_intellect_ratings = ratings2.loc[ratings2['condition'] == 'listened'].loc[ratings2['Category'] == 'intellect', 'Rating']\n",
    "read_intellect_ratings = ratings2.loc[ratings2['condition'] == 'read'].loc[ratings2['Category'] == 'intellect', 'Rating']\n",
    "\n",
    "shapiro_results = {}\n",
    "shapiro_results['listen'] = stats.shapiro(listen_intellect_ratings)\n",
    "shapiro_results['read'] = stats.shapiro(read_intellect_ratings)\n",
    "\n",
    "for condition, (score, p_val) in shapiro_results.items():\n",
    "    if p_val > 0.05:\n",
    "        print(\"The data follows a normal distribution.\")\n",
    "    else:\n",
    "        print(\"The data does not follow a normal distribution.\")\n",
    "\n",
    "# Test for homogeneity of variances (Levene's test)\n",
    "score, p_val = levene(read_intellect_ratings, listen_intellect_ratings)\n",
    "levene_results = {'score': score, 'p_val': p_val}\n",
    "if p_val < 0.05:\n",
    "    print(\"Levene's test is significant - use Welch's test\")\n",
    "else:\n",
    "    print(\"Levene's test is not significant - proceed\")\n",
    "\n",
    "# Independent t-tests\n",
    "ttest_score, p_val = stats.ttest_ind(read_intellect_ratings, listen_intellect_ratings)\n",
    "ttest_results = {'ttest_score': ttest_score, 'p_val': p_val}\n",
    "if p_val < 0.05:\n",
    "    print(\"Difference is statistically significant - reject H0, confirm H1\")\n",
    "else:\n",
    "    print(\"Difference is NOT statistically significant - reject H1, confirm H0\")\n",
    "\n",
    "ratings_desc, shapiro_results, levene_results, ttest_results"
   ]
  },
  {
   "cell_type": "code",
   "execution_count": 24,
   "metadata": {},
   "outputs": [
    {
     "name": "stdout",
     "output_type": "stream",
     "text": [
      "The data follows a normal distribution.\n",
      "The data follows a normal distribution.\n",
      "Levene's test is not significant - proceed\n",
      "Difference is statistically significant - reject H0, confirm H1\n"
     ]
    },
    {
     "data": {
      "text/plain": [
       "(count    39.000000\n",
       " mean      3.871795\n",
       " std       2.330343\n",
       " min       0.000000\n",
       " 25%       2.000000\n",
       " 50%       4.000000\n",
       " 75%       5.000000\n",
       " max       8.000000\n",
       " Name: Rating, dtype: float64,\n",
       " {'listen': ShapiroResult(statistic=0.9390669465065002, pvalue=0.20883114635944366),\n",
       "  'read': ShapiroResult(statistic=0.9034496545791626, pvalue=0.06600592285394669)},\n",
       " {'score': 0.10663746145199855, 'p_val': 0.7458453933447955},\n",
       " {'ttest_score': -2.620100218173143, 'p_val': 0.012674511839824125})"
      ]
     },
     "execution_count": 24,
     "metadata": {},
     "output_type": "execute_result"
    }
   ],
   "source": [
    "##Q7a (code): This one is for hire ratings.\n",
    "from scipy.stats import shapiro, levene, ttest_ind # used for statistical analysis\n",
    "\n",
    "# Descriptive analysis of the ratings\n",
    "hire_ratings = ratings2[ratings2['Category'] == 'hire']['Rating']\n",
    "ratings_desc = hire_ratings.describe()\n",
    "\n",
    "# Test for normal distribution (Shapiro-Wilk test)\n",
    "listen_hire_ratings = ratings2.loc[ratings2['condition'] == 'listened'].loc[ratings2['Category'] == 'hire', 'Rating']\n",
    "read_hire_ratings = ratings2.loc[ratings2['condition'] == 'read'].loc[ratings2['Category'] == 'hire', 'Rating']\n",
    "\n",
    "shapiro_results = {}\n",
    "shapiro_results['listen'] = stats.shapiro(listen_hire_ratings)\n",
    "shapiro_results['read'] = stats.shapiro(read_hire_ratings)\n",
    "\n",
    "for condition, (score, p_val) in shapiro_results.items():\n",
    "    if p_val > 0.05:\n",
    "        print(\"The data follows a normal distribution.\")\n",
    "    else:\n",
    "        print(\"The data does not follow a normal distribution.\")\n",
    "\n",
    "# Test for homogeneity of variances (Levene's test)\n",
    "score, p_val = levene(read_hire_ratings, listen_hire_ratings)\n",
    "levene_results = {'score': score, 'p_val': p_val}\n",
    "if p_val < 0.05:\n",
    "    print(\"Levene's test is significant - use Welch's test\")\n",
    "else:\n",
    "    print(\"Levene's test is not significant - proceed\")\n",
    "\n",
    "# Independent t-tests\n",
    "ttest_score, p_val = stats.ttest_ind(read_hire_ratings, listen_hire_ratings)\n",
    "ttest_results = {'ttest_score': ttest_score, 'p_val': p_val}\n",
    "if p_val < 0.05:\n",
    "    print(\"Difference is statistically significant - reject H0, confirm H1\")\n",
    "else:\n",
    "    print(\"Difference is NOT statistically significant - reject H1, confirm H0\")\n",
    "\n",
    "ratings_desc, shapiro_results, levene_results, ttest_results"
   ]
  },
  {
   "cell_type": "code",
   "execution_count": 25,
   "metadata": {
    "id": "QD3ZZRrAq4Gc"
   },
   "outputs": [
    {
     "name": "stdout",
     "output_type": "stream",
     "text": [
      "The data follows a normal distribution.\n",
      "The data follows a normal distribution.\n",
      "Levene's test is not significant - proceed\n",
      "Difference is statistically significant - reject H0, confirm H1\n"
     ]
    },
    {
     "data": {
      "text/plain": [
       "(count    39.000000\n",
       " mean      5.094017\n",
       " std       2.254234\n",
       " min       0.333333\n",
       " 25%       3.666667\n",
       " 50%       5.333333\n",
       " 75%       7.000000\n",
       " max       8.666667\n",
       " Name: Rating, dtype: float64,\n",
       " {'listen': ShapiroResult(statistic=0.9394754767417908, pvalue=0.21275967359542847),\n",
       "  'read': ShapiroResult(statistic=0.9483764171600342, pvalue=0.40011918544769287)},\n",
       " {'score': 0.39045326236607025, 'p_val': 0.5358960150374064},\n",
       " {'ttest_score': -2.850766179025179, 'p_val': 0.007091060616710596})"
      ]
     },
     "execution_count": 25,
     "metadata": {},
     "output_type": "execute_result"
    }
   ],
   "source": [
    "##Q7a (code): This one is for impression ratings.\n",
    "from scipy.stats import shapiro, levene, ttest_ind # used for statistical analysis\n",
    "\n",
    "# Descriptive analysis of the ratings\n",
    "impression_ratings = ratings2[ratings2['Category'] == 'impression']['Rating']\n",
    "ratings_desc = impression_ratings.describe()\n",
    "\n",
    "# Test for normal distribution (Shapiro-Wilk test)\n",
    "listen_impression_ratings = ratings2.loc[ratings2['condition'] == 'listened'].loc[ratings2['Category'] == 'impression', 'Rating']\n",
    "read_impression_ratings = ratings2.loc[ratings2['condition'] == 'read'].loc[ratings2['Category'] == 'impression', 'Rating']\n",
    "\n",
    "shapiro_results = {}\n",
    "shapiro_results['listen'] = stats.shapiro(listen_impression_ratings)\n",
    "shapiro_results['read'] = stats.shapiro(read_impression_ratings)\n",
    "\n",
    "for condition, (score, p_val) in shapiro_results.items():\n",
    "    if p_val > 0.05:\n",
    "        print(\"The data follows a normal distribution.\")\n",
    "    else:\n",
    "        print(\"The data does not follow a normal distribution.\")\n",
    "\n",
    "# Test for homogeneity of variances (Levene's test)\n",
    "score, p_val = levene(read_impression_ratings, listen_impression_ratings)\n",
    "levene_results = {'score': score, 'p_val': p_val}\n",
    "if p_val < 0.05:\n",
    "    print(\"Levene's test is significant - use Welch's test\")\n",
    "else:\n",
    "    print(\"Levene's test is not significant - proceed\")\n",
    "\n",
    "# Independent t-tests\n",
    "ttest_score, p_val = stats.ttest_ind(read_impression_ratings, listen_impression_ratings)\n",
    "ttest_results = {'ttest_score': ttest_score, 'p_val': p_val}\n",
    "if p_val < 0.05:\n",
    "    print(\"Difference is statistically significant - reject H0, confirm H1\")\n",
    "else:\n",
    "    print(\"Difference is NOT statistically significant - reject H1, confirm H0\")\n",
    "\n",
    "ratings_desc, shapiro_results, levene_results, ttest_results"
   ]
  },
  {
   "cell_type": "code",
   "execution_count": 26,
   "metadata": {
    "id": "aifm_T8UQwYm"
   },
   "outputs": [],
   "source": [
    "#Q7b (answer in words): \n",
    "# For intellect ratings:\n",
    "# 1. Descriptive statistics provides basic statistical information for ratings, including mean, standard deviation, minimum value, 25% quantile, \n",
    "# median, 75% quantile, and maximum value.It helps us understand the distribution of intelligence scores.\n",
    "# 2. The Shapiro-Wilk test was used to test whether the ratings conforms to a normal distribution. In this result, \n",
    "# we found that the intellect ratings of both groups passed the test (both p values ​​were greater than 0.05), \n",
    "# indicating that the data statistically conformed to the assumption of normal distribution.\n",
    "# 3. Levene's test is used to test whether the variances of two sets of data are equal. In this result, the p-value of Levene's test is  about 0.35, \n",
    "# which is greater than 0.05, so we obtain that Levene's test is NOT significant, and the we can proceed with testing our hypothesis. \n",
    "# And then we can conduct a t-test.\n",
    "# 4. T-test is used to compare whether there is a significant difference in the means of two sets of data, and can help us determine \n",
    "# whether listening and reading have an impact on intellect ratings.In this result, the p-value of the t-test is 0.0011, \n",
    "# which is less than 0.05, indicating that there is a significant difference in the means of the two groups of scores. \n",
    "# Therefore, we rejected the null hypothesis and accepted the alternative hypothesis.\n",
    "\n",
    "# For hire ratings: \n",
    "# 1. Descriptive statistics provides basic statistical information for ratings, including mean, standard deviation, minimum value, 25% quantile, \n",
    "# median, 75% quantile, and maximum value.It helps us understand the distribution of hire scores.\n",
    "# 2. The Shapiro-Wilk test was used to test whether the ratings conforms to a normal distribution. In this result, \n",
    "# we found that the hire ratings of both groups passed the test (both p values ​​were greater than 0.05), \n",
    "# indicating that the data statistically conformed to the assumption of normal distribution.\n",
    "# 3. Levene's test is used to test whether the variances of two sets of data are equal. In this result, the p-value of Levene's test is  about 0.75, \n",
    "# which is greater than 0.05, so we obtain that Levene's test is NOT significant, and the we can proceed with testing our hypothesis. \n",
    "# And then we can conduct a t-test.\n",
    "# 4. T-test is used to compare whether there is a significant difference in the means of two sets of data, and can help us determine \n",
    "# whether listening and reading have an impact on hire ratings.In this result, the p-value of the t-test is 0.012, \n",
    "# which is less than 0.05, indicating that there is a significant difference in the means of the two groups of scores. \n",
    "# Therefore, we rejected the null hypothesis and accepted the alternative hypothesis.\n",
    "\n",
    "# For impression ratings:\n",
    "# 1. Descriptive statistics provides basic statistical information for ratings, including mean, standard deviation, minimum value, 25% quantile, \n",
    "# median, 75% quantile, and maximum value.It helps us understand the distribution of impression scores.\n",
    "# 2. The Shapiro-Wilk test was used to test whether the ratings conforms to a normal distribution. In this result, \n",
    "# we found that the impression ratings of both groups passed the test (both p values ​​were greater than 0.05), \n",
    "# indicating that the data statistically conformed to the assumption of normal distribution.\n",
    "# 3. Levene's test is used to test whether the variances of two sets of data are equal. In this result, the p-value of Levene's test is about 0.535, \n",
    "# which is greater than 0.05, so we obtain that Levene's test is NOT significant, and the we can proceed with testing our hypothesis. \n",
    "# And then we can conduct a t-test.\n",
    "# 4. T-test is used to compare whether there is a significant difference in the means of two sets of data, and can help us determine \n",
    "# whether listening and reading have an impact on impression ratings.In this result, the p-value of the t-test is 0.007, \n",
    "# which is less than 0.05, indicating that there is a significant difference in the means of the two groups of scores. \n",
    "# Therefore, we rejected the null hypothesis and accepted the alternative hypothesis."
   ]
  }
 ],
 "metadata": {
  "colab": {
   "provenance": []
  },
  "kernelspec": {
   "display_name": "Python 3 (ipykernel)",
   "language": "python",
   "name": "python3"
  },
  "language_info": {
   "codemirror_mode": {
    "name": "ipython",
    "version": 3
   },
   "file_extension": ".py",
   "mimetype": "text/x-python",
   "name": "python",
   "nbconvert_exporter": "python",
   "pygments_lexer": "ipython3",
   "version": "3.11.4"
  }
 },
 "nbformat": 4,
 "nbformat_minor": 4
}
